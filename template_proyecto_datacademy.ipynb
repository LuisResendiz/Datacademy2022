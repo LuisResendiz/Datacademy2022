{
 "cells": [
  {
   "cell_type": "markdown",
   "source": "# Análisis de los 25 retailers más grandes de Estados Unidos",
   "metadata": {
    "cell_id": "1df879a0-53cd-4031-a50b-2c2fe17304a4",
    "tags": [],
    "is_collapsed": false,
    "deepnote_cell_type": "text-cell-h1"
   }
  },
  {
   "cell_type": "code",
   "metadata": {
    "tags": [],
    "cell_id": "3347a937-91c3-4305-b06c-213bb2f3bcaf",
    "deepnote_to_be_reexecuted": false,
    "source_hash": "24b26b86",
    "execution_start": 1645633940983,
    "execution_millis": 1304,
    "deepnote_cell_type": "code",
    "deepnote_cell_height": 135
   },
   "source": "import pandas as pd\nimport numpy as np\nimport matplotlib.pyplot as plt\nimport seaborn as sns",
   "execution_count": null,
   "outputs": []
  },
  {
   "cell_type": "code",
   "metadata": {
    "cell_id": "b9f7ba9c-18c2-4e56-87ba-6f71d554cc0b",
    "tags": [],
    "deepnote_to_be_reexecuted": false,
    "source_hash": "2b1fd922",
    "execution_start": 1645633942289,
    "execution_millis": 53,
    "deepnote_table_state": {
     "pageSize": 25,
     "pageIndex": 0,
     "filters": [
      {
       "id": "Category",
       "value": "",
       "type": "contains"
      }
     ],
     "sortBy": []
    },
    "deepnote_table_loading": false,
    "deepnote_cell_type": "code",
    "deepnote_cell_height": 443
   },
   "source": "largest_us_retailers=pd.read_csv(\"/work/largest_us_retailers_9b00dc73-a938-46cd-af17-fcb2bd67301f.csv\")\nlargest_us_retailers.head()",
   "execution_count": null,
   "outputs": [
    {
     "output_type": "execute_result",
     "execution_count": 2,
     "data": {
      "application/vnd.deepnote.dataframe.v3+json": {
       "column_count": 6,
       "row_count": 5,
       "columns": [
        {
         "name": "Company",
         "dtype": "object",
         "stats": {
          "unique_count": 5,
          "nan_count": 0,
          "categories": [
           {
            "name": "Walmart US",
            "count": 1
           },
           {
            "name": "Kroger",
            "count": 1
           },
           {
            "name": "3 others",
            "count": 3
           }
          ]
         }
        },
        {
         "name": "Sales",
         "dtype": "int64",
         "stats": {
          "unique_count": 5,
          "nan_count": 0,
          "min": "78924",
          "max": "658119",
          "histogram": [
           {
            "bin_start": 78924,
            "bin_end": 136843.5,
            "count": 4
           },
           {
            "bin_start": 136843.5,
            "bin_end": 194763,
            "count": 0
           },
           {
            "bin_start": 194763,
            "bin_end": 252682.5,
            "count": 0
           },
           {
            "bin_start": 252682.5,
            "bin_end": 310602,
            "count": 0
           },
           {
            "bin_start": 310602,
            "bin_end": 368521.5,
            "count": 0
           },
           {
            "bin_start": 368521.5,
            "bin_end": 426441,
            "count": 0
           },
           {
            "bin_start": 426441,
            "bin_end": 484360.5,
            "count": 0
           },
           {
            "bin_start": 484360.5,
            "bin_end": 542280,
            "count": 0
           },
           {
            "bin_start": 542280,
            "bin_end": 600199.5,
            "count": 0
           },
           {
            "bin_start": 600199.5,
            "bin_end": 658119,
            "count": 1
           }
          ]
         }
        },
        {
         "name": "Stores",
         "dtype": "float64",
         "stats": {
          "unique_count": 5,
          "nan_count": 0,
          "min": "495.0",
          "max": "8002.0",
          "histogram": [
           {
            "bin_start": 495,
            "bin_end": 1245.7,
            "count": 1
           },
           {
            "bin_start": 1245.7,
            "bin_end": 1996.4,
            "count": 1
           },
           {
            "bin_start": 1996.4,
            "bin_end": 2747.1000000000004,
            "count": 0
           },
           {
            "bin_start": 2747.1000000000004,
            "bin_end": 3497.8,
            "count": 0
           },
           {
            "bin_start": 3497.8,
            "bin_end": 4248.5,
            "count": 1
           },
           {
            "bin_start": 4248.5,
            "bin_end": 4999.200000000001,
            "count": 1
           },
           {
            "bin_start": 4999.200000000001,
            "bin_end": 5749.900000000001,
            "count": 0
           },
           {
            "bin_start": 5749.900000000001,
            "bin_end": 6500.6,
            "count": 0
           },
           {
            "bin_start": 6500.6,
            "bin_end": 7251.3,
            "count": 0
           },
           {
            "bin_start": 7251.3,
            "bin_end": 8002,
            "count": 1
           }
          ]
         }
        },
        {
         "name": "Sales/Avg. Store",
         "dtype": "float64",
         "stats": {
          "unique_count": 5,
          "nan_count": 0,
          "min": "9.81092672",
          "max": "187.7956204",
          "histogram": [
           {
            "bin_start": 9.81092672,
            "bin_end": 27.609396087999997,
            "count": 1
           },
           {
            "bin_start": 27.609396087999997,
            "bin_end": 45.407865455999996,
            "count": 2
           },
           {
            "bin_start": 45.407865455999996,
            "bin_end": 63.206334823999995,
            "count": 0
           },
           {
            "bin_start": 63.206334823999995,
            "bin_end": 81.004804192,
            "count": 1
           },
           {
            "bin_start": 81.004804192,
            "bin_end": 98.80327356,
            "count": 0
           },
           {
            "bin_start": 98.80327356,
            "bin_end": 116.601742928,
            "count": 0
           },
           {
            "bin_start": 116.601742928,
            "bin_end": 134.400212296,
            "count": 0
           },
           {
            "bin_start": 134.400212296,
            "bin_end": 152.198681664,
            "count": 0
           },
           {
            "bin_start": 152.198681664,
            "bin_end": 169.99715103199998,
            "count": 0
           },
           {
            "bin_start": 169.99715103199998,
            "bin_end": 187.7956204,
            "count": 1
           }
          ]
         }
        },
        {
         "name": "Store Count Growth",
         "dtype": "float64",
         "stats": {
          "unique_count": 5,
          "nan_count": 0,
          "min": "-0.01051069618",
          "max": "0.06681034483",
          "histogram": [
           {
            "bin_start": -0.01051069618,
            "bin_end": -0.0027785920789999983,
            "count": 1
           },
           {
            "bin_start": -0.0027785920789999983,
            "bin_end": 0.004953512022000003,
            "count": 1
           },
           {
            "bin_start": 0.004953512022000003,
            "bin_end": 0.012685616123000005,
            "count": 0
           },
           {
            "bin_start": 0.012685616123000005,
            "bin_end": 0.020417720224000006,
            "count": 1
           },
           {
            "bin_start": 0.020417720224000006,
            "bin_end": 0.028149824325000003,
            "count": 0
           },
           {
            "bin_start": 0.028149824325000003,
            "bin_end": 0.03588192842600001,
            "count": 0
           },
           {
            "bin_start": 0.03588192842600001,
            "bin_end": 0.043614032527,
            "count": 0
           },
           {
            "bin_start": 0.043614032527,
            "bin_end": 0.05134613662800001,
            "count": 0
           },
           {
            "bin_start": 0.05134613662800001,
            "bin_end": 0.059078240729,
            "count": 1
           },
           {
            "bin_start": 0.059078240729,
            "bin_end": 0.06681034483,
            "count": 1
           }
          ]
         }
        },
        {
         "name": "Category",
         "dtype": "object",
         "stats": {
          "unique_count": 5,
          "nan_count": 0,
          "categories": [
           {
            "name": "Supercenters",
            "count": 1
           },
           {
            "name": "Grocery",
            "count": 1
           },
           {
            "name": "3 others",
            "count": 3
           }
          ]
         }
        },
        {
         "name": "_deepnote_index_column",
         "dtype": "int64"
        }
       ],
       "rows": [
        {
         "Company": "Walmart US",
         "Sales": 658119,
         "Stores": 4574,
         "Sales/Avg. Store": 65.64972497,
         "Store Count Growth": 0.01284322409,
         "Category": "Supercenters",
         "_deepnote_index_column": 0
        },
        {
         "Company": "Kroger",
         "Sales": 115037,
         "Stores": 3931,
         "Sales/Avg. Store": 30.03184963,
         "Store Count Growth": 0.05388739946,
         "Category": "Grocery",
         "_deepnote_index_column": 1
        },
        {
         "Company": "Costco",
         "Sales": 90048,
         "Stores": 495,
         "Sales/Avg. Store": 187.7956204,
         "Store Count Growth": 0.06681034483,
         "Category": "Warehouse Club",
         "_deepnote_index_column": 2
        },
        {
         "Company": "Home Depot",
         "Sales": 83976,
         "Stores": 1965,
         "Sales/Avg. Store": 42.73587786,
         "Store Count Growth": 0,
         "Category": "Home Improvement",
         "_deepnote_index_column": 3
        },
        {
         "Company": "Walgreen Boots",
         "Sales": 78924,
         "Stores": 8002,
         "Sales/Avg. Store": 9.81092672,
         "Store Count Growth": -0.01051069618,
         "Category": "Drug Stores",
         "_deepnote_index_column": 4
        }
       ]
      },
      "text/plain": "          Company   Sales  Stores  Sales/Avg. Store  Store Count Growth  \\\n0      Walmart US  658119  4574.0         65.649725            0.012843   \n1          Kroger  115037  3931.0         30.031850            0.053887   \n2          Costco   90048   495.0        187.795620            0.066810   \n3      Home Depot   83976  1965.0         42.735878            0.000000   \n4  Walgreen Boots   78924  8002.0          9.810927           -0.010511   \n\n           Category  \n0      Supercenters  \n1           Grocery  \n2    Warehouse Club  \n3  Home Improvement  \n4       Drug Stores  ",
      "text/html": "<div>\n<style scoped>\n    .dataframe tbody tr th:only-of-type {\n        vertical-align: middle;\n    }\n\n    .dataframe tbody tr th {\n        vertical-align: top;\n    }\n\n    .dataframe thead th {\n        text-align: right;\n    }\n</style>\n<table border=\"1\" class=\"dataframe\">\n  <thead>\n    <tr style=\"text-align: right;\">\n      <th></th>\n      <th>Company</th>\n      <th>Sales</th>\n      <th>Stores</th>\n      <th>Sales/Avg. Store</th>\n      <th>Store Count Growth</th>\n      <th>Category</th>\n    </tr>\n  </thead>\n  <tbody>\n    <tr>\n      <th>0</th>\n      <td>Walmart US</td>\n      <td>658119</td>\n      <td>4574.0</td>\n      <td>65.649725</td>\n      <td>0.012843</td>\n      <td>Supercenters</td>\n    </tr>\n    <tr>\n      <th>1</th>\n      <td>Kroger</td>\n      <td>115037</td>\n      <td>3931.0</td>\n      <td>30.031850</td>\n      <td>0.053887</td>\n      <td>Grocery</td>\n    </tr>\n    <tr>\n      <th>2</th>\n      <td>Costco</td>\n      <td>90048</td>\n      <td>495.0</td>\n      <td>187.795620</td>\n      <td>0.066810</td>\n      <td>Warehouse Club</td>\n    </tr>\n    <tr>\n      <th>3</th>\n      <td>Home Depot</td>\n      <td>83976</td>\n      <td>1965.0</td>\n      <td>42.735878</td>\n      <td>0.000000</td>\n      <td>Home Improvement</td>\n    </tr>\n    <tr>\n      <th>4</th>\n      <td>Walgreen Boots</td>\n      <td>78924</td>\n      <td>8002.0</td>\n      <td>9.810927</td>\n      <td>-0.010511</td>\n      <td>Drug Stores</td>\n    </tr>\n  </tbody>\n</table>\n</div>"
     },
     "metadata": {}
    }
   ]
  },
  {
   "cell_type": "markdown",
   "source": "## I. Preguntas del negocio",
   "metadata": {
    "cell_id": "cc141631-e246-41c7-a56b-ad74255d674f",
    "tags": [],
    "is_collapsed": false,
    "deepnote_cell_type": "text-cell-h2"
   }
  },
  {
   "cell_type": "markdown",
   "source": "### 1. ¿Cuál es el promedio de ventas sin contar a la compañía dominante?",
   "metadata": {
    "cell_id": "b919b92e-0df3-4f54-b093-c1db040bc4aa",
    "tags": [],
    "deepnote_cell_type": "markdown",
    "deepnote_cell_height": 62
   }
  },
  {
   "cell_type": "markdown",
   "source": "Se ordena el dataset por cantidad de ventas y se toman los valores sin contar el primer indice para calcular el promedio.",
   "metadata": {
    "cell_id": "412cbcaa-c0c8-43ee-a607-e32634dceb73",
    "tags": [],
    "deepnote_cell_type": "markdown",
    "deepnote_cell_height": 52.390625
   }
  },
  {
   "cell_type": "code",
   "metadata": {
    "cell_id": "d0684d2b-d018-42ad-9b48-b545aae09eec",
    "tags": [],
    "deepnote_to_be_reexecuted": false,
    "source_hash": "35d0415",
    "execution_start": 1645633942345,
    "execution_millis": 216,
    "deepnote_cell_type": "code",
    "deepnote_cell_height": 449,
    "deepnote_output_heights": [
     262
    ]
   },
   "source": "largest_us_retailers=largest_us_retailers.sort_values(by='Sales',ascending=False).reset_index(drop=True)\nsales_mean=largest_us_retailers.Sales.mean()\nsales_mean_wo_top = largest_us_retailers.iloc[1:].Sales.mean()\nax=sns.barplot(x=['Promedio Ventas','Promedio Ventas \\n sin Empresa dominante'],y=[sales_mean,sales_mean_wo_top])\nfor i in ax.containers:\n    ax.bar_label(i,)",
   "execution_count": null,
   "outputs": [
    {
     "data": {
      "text/plain": "<Figure size 432x288 with 1 Axes>",
      "image/png": "[encoded data removed]"
     },
     "metadata": {
      "needs_background": "light",
      "image/png": {
       "width": 387,
       "height": 260
      }
     },
     "output_type": "display_data"
    }
   ]
  },
  {
   "cell_type": "markdown",
   "source": "* El promedio de ventas sin la empresa dominante es de: 46,602",
   "metadata": {
    "cell_id": "602ff2e4-5cb8-44a0-9a15-65da19c65e67",
    "tags": [],
    "deepnote_cell_type": "markdown",
    "deepnote_cell_height": 69.390625
   }
  },
  {
   "cell_type": "markdown",
   "source": "### 2. ¿Cuánto dinero en ventas generó la mayoría de las compañías?",
   "metadata": {
    "cell_id": "1814847a-365e-4bae-9fb9-6bed9b874b37",
    "tags": [],
    "deepnote_cell_type": "markdown",
    "deepnote_cell_height": 62
   }
  },
  {
   "cell_type": "markdown",
   "source": "",
   "metadata": {
    "cell_id": "3a6db77d-2f7a-466e-a74f-d406189968bf",
    "tags": [],
    "deepnote_cell_type": "markdown",
    "deepnote_cell_height": 46
   }
  },
  {
   "cell_type": "code",
   "metadata": {
    "cell_id": "7c7057cc-813b-4f93-8826-caed6cc738f9",
    "tags": [],
    "deepnote_to_be_reexecuted": false,
    "source_hash": "aff4db6c",
    "execution_start": 1645633942631,
    "execution_millis": 362,
    "deepnote_cell_type": "code",
    "deepnote_cell_height": 718,
    "deepnote_output_heights": [
     405
    ]
   },
   "source": "import math\nsns.set_theme(style='whitegrid',palette='viridis')\nn_bins= round(2*math.pow(largest_us_retailers.Sales.count(),1/3)) #obteniendo el numero de bins con la formula de Rice n_bins=2* (n)^(1/3) redondeado hacia arriba.\n\nmax_sales=int(largest_us_retailers.Sales.max())\nbin_range=range(0,max_sales*2,max_sales//n_bins)\n\nax=plt.figure(figsize=(12, 6))\nax=sns.histplot(x=largest_us_retailers.Sales,bins=bin_range)\nax.set(xlabel='Cantidad de Ventas',ylabel='Cantidad de Empresas')\nplt.xlim([-max_sales//n_bins, (max_sales+2*(max_sales//n_bins))])\nax=ax.set_xticks(range(0,max_sales+2*(max_sales//n_bins),(max_sales//n_bins)))\nax=plt.xticks(rotation=45)",
   "execution_count": null,
   "outputs": [
    {
     "data": {
      "text/plain": "<Figure size 864x432 with 1 Axes>",
      "image/png": "[encoded data removed]"
     },
     "metadata": {
      "image/png": {
       "width": 742,
       "height": 403
      }
     },
     "output_type": "display_data"
    }
   ]
  },
  {
   "cell_type": "markdown",
   "source": "* Según la gráfica, la mayoría de las tiendas vendieron hasta 109,686.\n* Se puede ver que hay un valor de ventas aislado a los demás datos, este representa las ventas de Walmart US.\n\nAhora revisemos como se comporta sin el valor aislado de Walmart:",
   "metadata": {
    "cell_id": "2188cc19-f4b8-4c33-a83b-74093649f25e",
    "tags": [],
    "deepnote_cell_type": "markdown",
    "deepnote_cell_height": 117.171875
   }
  },
  {
   "cell_type": "code",
   "metadata": {
    "cell_id": "419089eb-3c2f-47a7-a151-eb6b77945de1",
    "tags": [],
    "deepnote_to_be_reexecuted": false,
    "source_hash": "16283136",
    "execution_start": 1645633943008,
    "execution_millis": 312,
    "deepnote_cell_type": "code",
    "deepnote_cell_height": 700,
    "deepnote_output_heights": [
     405
    ]
   },
   "source": "import math\nsns.set_theme(style='whitegrid',palette='viridis')\nn_bins= round(2*math.pow(largest_us_retailers.iloc[1:].Sales.count(),1/3)) #obteniendo el numero de bins con la formula de Rice n_bins=2* (n)^(1/3) redondeado hacia arriba.\nmax_sales=int(largest_us_retailers.iloc[1:].Sales.max())\nbin_range=range(0,max_sales*2,max_sales//n_bins)\n\nax=plt.figure(figsize=(12, 6))\nax=sns.histplot(x=largest_us_retailers.iloc[1:].Sales,bins=bin_range)\nax.set(xlabel='Cantidad de Ventas',ylabel='Cantidad de Empresas')\nplt.xlim([-max_sales//n_bins, (max_sales+2*(max_sales//n_bins))])\nax=ax.set_xticks(range(0,max_sales+2*(max_sales//n_bins),(max_sales//n_bins)))\nax=plt.xticks(rotation=45)",
   "execution_count": null,
   "outputs": [
    {
     "data": {
      "text/plain": "<Figure size 864x432 with 1 Axes>",
      "image/png": "[encoded data removed]"
     },
     "metadata": {
      "image/png": {
       "width": 742,
       "height": 403
      }
     },
     "output_type": "display_data"
    }
   ]
  },
  {
   "cell_type": "markdown",
   "source": "* Nuestros resultados cambian, la mayoría de las compañías (sin walmart) venden entre 19,172 y 38,344. ",
   "metadata": {
    "cell_id": "4413a615-960e-4626-8f6d-2ce28517ba31",
    "tags": [],
    "deepnote_cell_type": "markdown",
    "deepnote_cell_height": 69.390625
   }
  },
  {
   "cell_type": "markdown",
   "source": "### 3. ¿Cuántas tiendas tiene la mayoría de las compañías?",
   "metadata": {
    "cell_id": "9801295a-a27d-48af-ae87-c653cabd8f67",
    "tags": [],
    "deepnote_cell_type": "markdown",
    "deepnote_cell_height": 62
   }
  },
  {
   "cell_type": "code",
   "metadata": {
    "cell_id": "cfcc2261-f6a1-44d8-b8fa-184eec2a77ff",
    "tags": [],
    "deepnote_to_be_reexecuted": false,
    "source_hash": "7357fc03",
    "execution_start": 1645633943406,
    "execution_millis": 574,
    "deepnote_cell_type": "code",
    "deepnote_cell_height": 695,
    "deepnote_output_heights": [
     400
    ]
   },
   "source": "sns.set_theme(style='whitegrid',palette='viridis')\nax=plt.figure(figsize=(12, 6))\n\nn_bins= round(2*math.pow(largest_us_retailers.Stores.count(),1/3))\nmax_stores=int(largest_us_retailers.Stores.max())\n\nbin_range=range(0,max_stores+max_stores//n_bins,max_stores//n_bins)\nax=sns.histplot(largest_us_retailers.Stores,bins=bin_range)\nax.set(xlabel='Cantidad de Tiendas',ylabel='Cantidad Empresas')\n\nax=ax.set_xticks(bin_range)\nSax=plt.xticks(rotation=45)",
   "execution_count": null,
   "outputs": [
    {
     "data": {
      "text/plain": "<Figure size 864x432 with 1 Axes>",
      "image/png": "[encoded data removed]"
     },
     "metadata": {
      "image/png": {
       "width": 724,
       "height": 398
      }
     },
     "output_type": "display_data"
    }
   ]
  },
  {
   "cell_type": "markdown",
   "source": "* Se puede observar en la gráfica la mayoría de las compañias tiene hasta 2375 tiendas.",
   "metadata": {
    "cell_id": "e5b08efc-8ebb-4a1d-bd6e-02d5e6e40347",
    "tags": [],
    "deepnote_cell_type": "markdown",
    "deepnote_cell_height": 69.390625
   }
  },
  {
   "cell_type": "markdown",
   "source": "### 4. ¿La cantidad de tiendas está relacionada con la cantidad de ventas? Es decir, ¿si una empresa tiene más tiendas tendrá más dinero de ventas?",
   "metadata": {
    "cell_id": "c9b5de28-cd12-4088-9bc0-93df660401f3",
    "tags": [],
    "deepnote_cell_type": "markdown",
    "deepnote_cell_height": 94
   }
  },
  {
   "cell_type": "markdown",
   "source": "Podemos hacer un diagrama de dispersión para ver si hay alguna tendencia entre la cantidad de tiendas y ventas.",
   "metadata": {
    "cell_id": "249a7bf9-0fa7-4733-b7a6-01e5efd394bf",
    "tags": [],
    "deepnote_cell_type": "markdown",
    "deepnote_cell_height": 52.390625
   }
  },
  {
   "cell_type": "code",
   "metadata": {
    "cell_id": "a3fcd47e-ef19-4950-861d-43c1250c2bfd",
    "tags": [],
    "deepnote_to_be_reexecuted": false,
    "source_hash": "c51858f6",
    "execution_start": 1645633958248,
    "execution_millis": 280,
    "deepnote_cell_type": "code",
    "deepnote_cell_height": 530,
    "deepnote_output_heights": [
     379
    ]
   },
   "source": "sns.set_theme(style='whitegrid',palette='viridis')\nax=plt.figure(figsize=(12, 6))\nax=sns.regplot(x=largest_us_retailers.Stores,y=largest_us_retailers.Sales,ci=None,line_kws={\"color\": \"green\"})\nax=ax.set(xlabel='Tiendas',ylabel='Ventas')",
   "execution_count": null,
   "outputs": [
    {
     "data": {
      "text/plain": "<Figure size 864x432 with 1 Axes>",
      "image/png": "[encoded data removed]"
     },
     "metadata": {
      "image/png": {
       "width": 752,
       "height": 377
      }
     },
     "output_type": "display_data"
    }
   ]
  },
  {
   "cell_type": "markdown",
   "source": "* La gráfica nos muestra que no hay correlación entre tener más tiendas y tener más ventas.\n",
   "metadata": {
    "cell_id": "48acd39f-9cc0-41dc-b1f8-5b7e7ff65101",
    "tags": [],
    "deepnote_cell_type": "markdown",
    "deepnote_cell_height": 69.390625
   }
  },
  {
   "cell_type": "markdown",
   "source": "### 5. ¿Cuál es el rango que existe entre las ventas?",
   "metadata": {
    "cell_id": "d296130b-b739-4424-8c5d-8dc8b6fc8ee5",
    "tags": [],
    "deepnote_cell_type": "markdown",
    "deepnote_cell_height": 62
   }
  },
  {
   "cell_type": "markdown",
   "source": "El rango de ventas se calcularía restandole el mínimo al valor máximo.",
   "metadata": {
    "cell_id": "28be5692-8a7d-4ced-af14-e1671e3bfdd0",
    "tags": [],
    "deepnote_cell_type": "markdown",
    "deepnote_cell_height": 52.390625
   }
  },
  {
   "cell_type": "code",
   "metadata": {
    "cell_id": "277da6f7-0300-4156-91e5-9765eb1f3752",
    "tags": [],
    "deepnote_to_be_reexecuted": false,
    "source_hash": "8b1769c2",
    "execution_start": 1645633943979,
    "execution_millis": 32,
    "deepnote_cell_type": "code",
    "deepnote_cell_height": 130.1875
   },
   "source": "sales_range=largest_us_retailers.Sales.max()-largest_us_retailers.Sales.min()\nprint(f'El rango entre ventas sería: ${sales_range}')",
   "execution_count": null,
   "outputs": [
    {
     "name": "stdout",
     "text": "El rango entre ventas sería: $641527\n",
     "output_type": "stream"
    }
   ]
  },
  {
   "cell_type": "markdown",
   "source": "### 6. ¿Cuáles son las 5 empresas que más tiendas físicas tienen? ¿Cuáles de ellas están dentro de las 5 empresas que más ventas tuvieron?",
   "metadata": {
    "cell_id": "6c36ddc3-51ef-4017-a6f9-06cbb8b970e4",
    "tags": [],
    "deepnote_cell_type": "markdown",
    "deepnote_cell_height": 94
   }
  },
  {
   "cell_type": "markdown",
   "source": "Primero obtenemos las 5 compañías con más tiendas físicas y las 5 con más ventas:",
   "metadata": {
    "cell_id": "fd84054e-8770-436e-9248-74bb4277ea53",
    "tags": [],
    "deepnote_cell_type": "markdown",
    "deepnote_cell_height": 52.390625
   }
  },
  {
   "cell_type": "code",
   "metadata": {
    "cell_id": "1295319d-09d0-42f0-9de0-ff0e689f400f",
    "tags": [],
    "deepnote_to_be_reexecuted": false,
    "source_hash": "3c32331f",
    "execution_start": 1645633943980,
    "execution_millis": 0,
    "deepnote_cell_type": "code",
    "deepnote_cell_height": 99
   },
   "source": "top_five_stores=largest_us_retailers.sort_values(by='Stores',ascending=False).reset_index()\ntop_five_sales=largest_us_retailers.sort_values(by='Sales',ascending=False).reset_index()",
   "execution_count": null,
   "outputs": []
  },
  {
   "cell_type": "markdown",
   "source": "En el siguiente gráfico se pueden ver las 5 compañías con más tiendas.",
   "metadata": {
    "cell_id": "6ccd94cd-129b-48f0-98f7-eb2f0f9e7728",
    "tags": [],
    "deepnote_cell_type": "markdown",
    "deepnote_cell_height": 52.390625
   }
  },
  {
   "cell_type": "code",
   "metadata": {
    "cell_id": "ab33f9ff-7852-4625-ad3e-abf5fa7651df",
    "tags": [],
    "deepnote_to_be_reexecuted": false,
    "source_hash": "f895d8f5",
    "execution_start": 1645633943985,
    "execution_millis": 266,
    "deepnote_cell_type": "code",
    "deepnote_cell_height": 480,
    "deepnote_output_heights": [
     347
    ]
   },
   "source": "top_five_stores= top_five_stores[:5]\nax = top_five_stores.plot.bar(x='Company',y='Stores')\nax=ax.set(xlabel='Compañías',ylabel='Cantidad Tiendas')",
   "execution_count": null,
   "outputs": [
    {
     "data": {
      "text/plain": "<Figure size 432x288 with 1 Axes>",
      "image/png": "[encoded data removed]"
     },
     "metadata": {
      "image/png": {
       "width": 410,
       "height": 345
      }
     },
     "output_type": "display_data"
    }
   ]
  },
  {
   "cell_type": "markdown",
   "source": "Y las cinco compañías con más ventas son:",
   "metadata": {
    "cell_id": "729e7dca-f4b7-4d76-a361-cf6da329b882",
    "tags": [],
    "deepnote_cell_type": "markdown",
    "deepnote_cell_height": 52.390625
   }
  },
  {
   "cell_type": "code",
   "metadata": {
    "cell_id": "19afb828-c840-4e35-ba15-8e5d4f54bf68",
    "tags": [],
    "deepnote_to_be_reexecuted": false,
    "source_hash": "a881b18",
    "execution_start": 1645633944303,
    "execution_millis": 235,
    "deepnote_cell_type": "code",
    "deepnote_cell_height": 480,
    "deepnote_output_heights": [
     347
    ]
   },
   "source": "top_five_sales=top_five_sales[:5]\nax=top_five_sales.plot.bar(x='Company',y='Sales')\nax=ax.set(xlabel='Compañías',ylabel='Ventas')",
   "execution_count": null,
   "outputs": [
    {
     "data": {
      "text/plain": "<Figure size 432x288 with 1 Axes>",
      "image/png": "[encoded data removed]"
     },
     "metadata": {
      "image/png": {
       "width": 417,
       "height": 345
      }
     },
     "output_type": "display_data"
    }
   ]
  },
  {
   "cell_type": "markdown",
   "source": "Haciendo un join interno se pueden descubrir cuales compañías están en ambas listas.",
   "metadata": {
    "cell_id": "511bef6f-2aae-4cc6-bdba-850fae3e5e9f",
    "tags": [],
    "deepnote_cell_type": "markdown",
    "deepnote_cell_height": 52.390625
   }
  },
  {
   "cell_type": "code",
   "metadata": {
    "cell_id": "d20d54c5-3ba6-48ab-9ff6-633ce6d88d76",
    "tags": [],
    "deepnote_to_be_reexecuted": false,
    "source_hash": "4ed6601c",
    "execution_start": 1645633944535,
    "execution_millis": 17,
    "deepnote_cell_type": "code",
    "deepnote_cell_height": 136.1875,
    "deepnote_output_heights": [
     59.5625
    ]
   },
   "source": "top_five_inner = pd.merge(top_five_stores, top_five_sales, how='inner',on='Company')\ntop_five_inner['Company']",
   "execution_count": null,
   "outputs": [
    {
     "output_type": "execute_result",
     "execution_count": 12,
     "data": {
      "text/plain": "0    Walgreen Boots\n1        Walmart US\nName: Company, dtype: object"
     },
     "metadata": {}
    }
   ]
  },
  {
   "cell_type": "markdown",
   "source": "* Las compañías que están en el top 5 de tiendas y top 5 de ventas son Walgreen Boots y Walmart US.",
   "metadata": {
    "cell_id": "83572518-11ae-4ac1-887c-f56d66bc58bf",
    "tags": [],
    "deepnote_cell_type": "markdown",
    "deepnote_cell_height": 69.390625
   }
  },
  {
   "cell_type": "markdown",
   "source": "## II. Preguntas opcionales",
   "metadata": {
    "cell_id": "7d1d5db9-ad1d-4081-968b-bea1357e236a",
    "tags": [],
    "deepnote_cell_type": "markdown",
    "deepnote_cell_height": 70
   }
  },
  {
   "cell_type": "markdown",
   "source": "### 7. ¿Qué categoría de compañía generó más ventas?",
   "metadata": {
    "cell_id": "27e5ddcb-8674-4809-844e-8c3442430be1",
    "tags": [],
    "deepnote_cell_type": "markdown",
    "deepnote_cell_height": 62
   }
  },
  {
   "cell_type": "markdown",
   "source": "Primero revisemos la columna de categoría para ver con que tratamos:",
   "metadata": {
    "cell_id": "ca30ca2e-0eb3-4a93-9d52-ae8ad4121a7a",
    "tags": [],
    "deepnote_cell_type": "markdown",
    "deepnote_cell_height": 52.390625
   }
  },
  {
   "cell_type": "code",
   "metadata": {
    "cell_id": "fcc0ff72-f954-4023-b187-f43c7ecc77ce",
    "tags": [],
    "deepnote_to_be_reexecuted": false,
    "source_hash": "e7d24dc5",
    "execution_start": 1645633944547,
    "execution_millis": 24,
    "deepnote_cell_type": "code",
    "deepnote_cell_height": 175.75,
    "deepnote_output_heights": [
     78.75
    ]
   },
   "source": "largest_us_retailers.Category.unique()",
   "execution_count": null,
   "outputs": [
    {
     "output_type": "execute_result",
     "execution_count": 13,
     "data": {
      "text/plain": "array(['Supercenters', 'Grocery', 'Warehouse Club', 'Home Improvement',\n       'Drug Stores', 'Electronic/Mail Order', 'Warehouse Clubs', nan,\n       'Electronics', 'Department Stores', 'Apparel', 'Dollar Stores'],\n      dtype=object)"
     },
     "metadata": {}
    }
   ]
  },
  {
   "cell_type": "markdown",
   "source": "Hay un valor nan en nuestra columna, revisando el dataset nos damos cuenta que le corresponde a la compañía Apple Inc. Online. Buscando información en la red, podemos encontrar que Apple es una compañía de electrónicos de consumo<sup>1</sup> así que podemos cambiar su categoría a 'electronics'.\n\n<sup>1</sup>https://en.wikipedia.org/wiki/Apple_Inc.#cite_ref-Apple_Q4_Result_Filing_1-0\n\nTambién tenemos tenemos dos categorías 'Warehouse Club' y 'Warehouse Clubs' que deberían ser la mísma, para tener consistencia ambas serán 'Warehouse Club'.\n",
   "metadata": {
    "cell_id": "a2f5c8c7-8da0-49c1-94d7-b4a9279b5b07",
    "tags": [],
    "deepnote_cell_type": "markdown",
    "deepnote_cell_height": 147.5625
   }
  },
  {
   "cell_type": "code",
   "metadata": {
    "cell_id": "99537c0d-8ca7-4fc6-9797-b304138cd742",
    "tags": [],
    "deepnote_to_be_reexecuted": false,
    "source_hash": "b3825abe",
    "execution_start": 1645633944578,
    "execution_millis": 28,
    "deepnote_cell_type": "code",
    "deepnote_cell_height": 229
   },
   "source": "largest_us_retailers.loc[largest_us_retailers.Category.notna()==False]",
   "execution_count": null,
   "outputs": [
    {
     "output_type": "execute_result",
     "execution_count": 14,
     "data": {
      "application/vnd.deepnote.dataframe.v3+json": {
       "column_count": 6,
       "row_count": 1,
       "columns": [
        {
         "name": "Company",
         "dtype": "object",
         "stats": {
          "unique_count": 1,
          "nan_count": 0,
          "categories": [
           {
            "name": "Apple incl. Online",
            "count": 1
           }
          ]
         }
        },
        {
         "name": "Sales",
         "dtype": "int64",
         "stats": {
          "unique_count": 1,
          "nan_count": 0,
          "min": "37664",
          "max": "37664",
          "histogram": [
           {
            "bin_start": 37663.5,
            "bin_end": 37663.6,
            "count": 0
           },
           {
            "bin_start": 37663.6,
            "bin_end": 37663.7,
            "count": 0
           },
           {
            "bin_start": 37663.7,
            "bin_end": 37663.8,
            "count": 0
           },
           {
            "bin_start": 37663.8,
            "bin_end": 37663.9,
            "count": 0
           },
           {
            "bin_start": 37663.9,
            "bin_end": 37664,
            "count": 0
           },
           {
            "bin_start": 37664,
            "bin_end": 37664.1,
            "count": 1
           },
           {
            "bin_start": 37664.1,
            "bin_end": 37664.2,
            "count": 0
           },
           {
            "bin_start": 37664.2,
            "bin_end": 37664.3,
            "count": 0
           },
           {
            "bin_start": 37664.3,
            "bin_end": 37664.4,
            "count": 0
           },
           {
            "bin_start": 37664.4,
            "bin_end": 37664.5,
            "count": 0
           }
          ]
         }
        },
        {
         "name": "Stores",
         "dtype": "float64",
         "stats": {
          "unique_count": 0,
          "nan_count": 1,
          "min": null,
          "max": null,
          "histogram": [
           {
            "bin_start": 0,
            "bin_end": 0.1,
            "count": 0
           },
           {
            "bin_start": 0.1,
            "bin_end": 0.2,
            "count": 0
           },
           {
            "bin_start": 0.2,
            "bin_end": 0.30000000000000004,
            "count": 0
           },
           {
            "bin_start": 0.30000000000000004,
            "bin_end": 0.4,
            "count": 0
           },
           {
            "bin_start": 0.4,
            "bin_end": 0.5,
            "count": 0
           },
           {
            "bin_start": 0.5,
            "bin_end": 0.6000000000000001,
            "count": 0
           },
           {
            "bin_start": 0.6000000000000001,
            "bin_end": 0.7000000000000001,
            "count": 0
           },
           {
            "bin_start": 0.7000000000000001,
            "bin_end": 0.8,
            "count": 0
           },
           {
            "bin_start": 0.8,
            "bin_end": 0.9,
            "count": 0
           },
           {
            "bin_start": 0.9,
            "bin_end": 1,
            "count": 0
           }
          ]
         }
        },
        {
         "name": "Sales/Avg. Store",
         "dtype": "float64",
         "stats": {
          "unique_count": 0,
          "nan_count": 1,
          "min": null,
          "max": null,
          "histogram": [
           {
            "bin_start": 0,
            "bin_end": 0.1,
            "count": 0
           },
           {
            "bin_start": 0.1,
            "bin_end": 0.2,
            "count": 0
           },
           {
            "bin_start": 0.2,
            "bin_end": 0.30000000000000004,
            "count": 0
           },
           {
            "bin_start": 0.30000000000000004,
            "bin_end": 0.4,
            "count": 0
           },
           {
            "bin_start": 0.4,
            "bin_end": 0.5,
            "count": 0
           },
           {
            "bin_start": 0.5,
            "bin_end": 0.6000000000000001,
            "count": 0
           },
           {
            "bin_start": 0.6000000000000001,
            "bin_end": 0.7000000000000001,
            "count": 0
           },
           {
            "bin_start": 0.7000000000000001,
            "bin_end": 0.8,
            "count": 0
           },
           {
            "bin_start": 0.8,
            "bin_end": 0.9,
            "count": 0
           },
           {
            "bin_start": 0.9,
            "bin_end": 1,
            "count": 0
           }
          ]
         }
        },
        {
         "name": "Store Count Growth",
         "dtype": "float64",
         "stats": {
          "unique_count": 0,
          "nan_count": 1,
          "min": null,
          "max": null,
          "histogram": [
           {
            "bin_start": 0,
            "bin_end": 0.1,
            "count": 0
           },
           {
            "bin_start": 0.1,
            "bin_end": 0.2,
            "count": 0
           },
           {
            "bin_start": 0.2,
            "bin_end": 0.30000000000000004,
            "count": 0
           },
           {
            "bin_start": 0.30000000000000004,
            "bin_end": 0.4,
            "count": 0
           },
           {
            "bin_start": 0.4,
            "bin_end": 0.5,
            "count": 0
           },
           {
            "bin_start": 0.5,
            "bin_end": 0.6000000000000001,
            "count": 0
           },
           {
            "bin_start": 0.6000000000000001,
            "bin_end": 0.7000000000000001,
            "count": 0
           },
           {
            "bin_start": 0.7000000000000001,
            "bin_end": 0.8,
            "count": 0
           },
           {
            "bin_start": 0.8,
            "bin_end": 0.9,
            "count": 0
           },
           {
            "bin_start": 0.9,
            "bin_end": 1,
            "count": 0
           }
          ]
         }
        },
        {
         "name": "Category",
         "dtype": "object",
         "stats": {
          "unique_count": 0,
          "nan_count": 1,
          "categories": [
           {
            "name": "Missing",
            "count": 1
           }
          ]
         }
        },
        {
         "name": "_deepnote_index_column",
         "dtype": "int64"
        }
       ],
       "rows": [
        {
         "Company": "Apple incl. Online",
         "Sales": 37664,
         "Stores": "nan",
         "Sales/Avg. Store": "nan",
         "Store Count Growth": "nan",
         "Category": "nan",
         "_deepnote_index_column": 11
        }
       ]
      },
      "text/plain": "               Company  Sales  Stores  Sales/Avg. Store  Store Count Growth  \\\n11  Apple incl. Online  37664     NaN               NaN                 NaN   \n\n   Category  \n11      NaN  ",
      "text/html": "<div>\n<style scoped>\n    .dataframe tbody tr th:only-of-type {\n        vertical-align: middle;\n    }\n\n    .dataframe tbody tr th {\n        vertical-align: top;\n    }\n\n    .dataframe thead th {\n        text-align: right;\n    }\n</style>\n<table border=\"1\" class=\"dataframe\">\n  <thead>\n    <tr style=\"text-align: right;\">\n      <th></th>\n      <th>Company</th>\n      <th>Sales</th>\n      <th>Stores</th>\n      <th>Sales/Avg. Store</th>\n      <th>Store Count Growth</th>\n      <th>Category</th>\n    </tr>\n  </thead>\n  <tbody>\n    <tr>\n      <th>11</th>\n      <td>Apple incl. Online</td>\n      <td>37664</td>\n      <td>NaN</td>\n      <td>NaN</td>\n      <td>NaN</td>\n      <td>NaN</td>\n    </tr>\n  </tbody>\n</table>\n</div>"
     },
     "metadata": {}
    }
   ]
  },
  {
   "cell_type": "code",
   "metadata": {
    "cell_id": "86f2417d-9e77-430d-b1c0-b2ab06808517",
    "tags": [],
    "deepnote_to_be_reexecuted": false,
    "source_hash": "bd66087b",
    "execution_start": 1645633944605,
    "execution_millis": 0,
    "deepnote_cell_type": "code",
    "deepnote_cell_height": 251.3125,
    "deepnote_output_heights": [
     136.3125
    ]
   },
   "source": "largest_us_retailers.at[11,'Category']='Electronics'\nlargest_us_retailers.iloc[11]",
   "execution_count": null,
   "outputs": [
    {
     "output_type": "execute_result",
     "execution_count": 15,
     "data": {
      "text/plain": "Company               Apple incl. Online\nSales                              37664\nStores                               NaN\nSales/Avg. Store                     NaN\nStore Count Growth                   NaN\nCategory                     Electronics\nName: 11, dtype: object"
     },
     "metadata": {}
    }
   ]
  },
  {
   "cell_type": "code",
   "metadata": {
    "cell_id": "449f7f8a-2abc-4503-b8f9-e9f6ccdb5e7c",
    "tags": [],
    "deepnote_to_be_reexecuted": false,
    "source_hash": "22870a05",
    "execution_start": 1645633944617,
    "execution_millis": 29,
    "deepnote_cell_type": "code",
    "deepnote_cell_height": 229
   },
   "source": "largest_us_retailers[largest_us_retailers.Category=='Warehouse Clubs']",
   "execution_count": null,
   "outputs": [
    {
     "output_type": "execute_result",
     "execution_count": 16,
     "data": {
      "application/vnd.deepnote.dataframe.v3+json": {
       "column_count": 6,
       "row_count": 1,
       "columns": [
        {
         "name": "Company",
         "dtype": "object",
         "stats": {
          "unique_count": 1,
          "nan_count": 0,
          "categories": [
           {
            "name": "Sam's Club",
            "count": 1
           }
          ]
         }
        },
        {
         "name": "Sales",
         "dtype": "int64",
         "stats": {
          "unique_count": 1,
          "nan_count": 0,
          "min": "56828",
          "max": "56828",
          "histogram": [
           {
            "bin_start": 56827.5,
            "bin_end": 56827.6,
            "count": 0
           },
           {
            "bin_start": 56827.6,
            "bin_end": 56827.7,
            "count": 0
           },
           {
            "bin_start": 56827.7,
            "bin_end": 56827.8,
            "count": 0
           },
           {
            "bin_start": 56827.8,
            "bin_end": 56827.9,
            "count": 0
           },
           {
            "bin_start": 56827.9,
            "bin_end": 56828,
            "count": 0
           },
           {
            "bin_start": 56828,
            "bin_end": 56828.1,
            "count": 1
           },
           {
            "bin_start": 56828.1,
            "bin_end": 56828.2,
            "count": 0
           },
           {
            "bin_start": 56828.2,
            "bin_end": 56828.3,
            "count": 0
           },
           {
            "bin_start": 56828.3,
            "bin_end": 56828.4,
            "count": 0
           },
           {
            "bin_start": 56828.4,
            "bin_end": 56828.5,
            "count": 0
           }
          ]
         }
        },
        {
         "name": "Stores",
         "dtype": "float64",
         "stats": {
          "unique_count": 1,
          "nan_count": 0,
          "min": "655.0",
          "max": "655.0",
          "histogram": [
           {
            "bin_start": 654.5,
            "bin_end": 654.6,
            "count": 0
           },
           {
            "bin_start": 654.6,
            "bin_end": 654.7,
            "count": 0
           },
           {
            "bin_start": 654.7,
            "bin_end": 654.8,
            "count": 0
           },
           {
            "bin_start": 654.8,
            "bin_end": 654.9,
            "count": 0
           },
           {
            "bin_start": 654.9,
            "bin_end": 655,
            "count": 0
           },
           {
            "bin_start": 655,
            "bin_end": 655.1,
            "count": 1
           },
           {
            "bin_start": 655.1,
            "bin_end": 655.2,
            "count": 0
           },
           {
            "bin_start": 655.2,
            "bin_end": 655.3,
            "count": 0
           },
           {
            "bin_start": 655.3,
            "bin_end": 655.4,
            "count": 0
           },
           {
            "bin_start": 655.4,
            "bin_end": 655.5,
            "count": 0
           }
          ]
         }
        },
        {
         "name": "Sales/Avg. Store",
         "dtype": "float64",
         "stats": {
          "unique_count": 1,
          "nan_count": 0,
          "min": "87.29339478",
          "max": "87.29339478",
          "histogram": [
           {
            "bin_start": 86.79339478,
            "bin_end": 86.89339478,
            "count": 0
           },
           {
            "bin_start": 86.89339478,
            "bin_end": 86.99339478,
            "count": 0
           },
           {
            "bin_start": 86.99339478,
            "bin_end": 87.09339478,
            "count": 0
           },
           {
            "bin_start": 87.09339478,
            "bin_end": 87.19339478,
            "count": 0
           },
           {
            "bin_start": 87.19339478,
            "bin_end": 87.29339478,
            "count": 0
           },
           {
            "bin_start": 87.29339478,
            "bin_end": 87.39339478,
            "count": 1
           },
           {
            "bin_start": 87.39339478,
            "bin_end": 87.49339478,
            "count": 0
           },
           {
            "bin_start": 87.49339478,
            "bin_end": 87.59339478,
            "count": 0
           },
           {
            "bin_start": 87.59339478,
            "bin_end": 87.69339478,
            "count": 0
           },
           {
            "bin_start": 87.69339478,
            "bin_end": 87.79339478,
            "count": 0
           }
          ]
         }
        },
        {
         "name": "Store Count Growth",
         "dtype": "float64",
         "stats": {
          "unique_count": 1,
          "nan_count": 0,
          "min": "0.01236476043",
          "max": "0.01236476043",
          "histogram": [
           {
            "bin_start": -0.48763523957,
            "bin_end": -0.38763523957,
            "count": 0
           },
           {
            "bin_start": -0.38763523957,
            "bin_end": -0.28763523957,
            "count": 0
           },
           {
            "bin_start": -0.28763523957,
            "bin_end": -0.18763523956999995,
            "count": 0
           },
           {
            "bin_start": -0.18763523956999995,
            "bin_end": -0.08763523956999997,
            "count": 0
           },
           {
            "bin_start": -0.08763523956999997,
            "bin_end": 0.01236476043000001,
            "count": 1
           },
           {
            "bin_start": 0.01236476043000001,
            "bin_end": 0.1123647604300001,
            "count": 0
           },
           {
            "bin_start": 0.1123647604300001,
            "bin_end": 0.21236476043000008,
            "count": 0
           },
           {
            "bin_start": 0.21236476043000008,
            "bin_end": 0.31236476043000005,
            "count": 0
           },
           {
            "bin_start": 0.31236476043000005,
            "bin_end": 0.41236476043000003,
            "count": 0
           },
           {
            "bin_start": 0.41236476043000003,
            "bin_end": 0.51236476043,
            "count": 0
           }
          ]
         }
        },
        {
         "name": "Category",
         "dtype": "object",
         "stats": {
          "unique_count": 1,
          "nan_count": 0,
          "categories": [
           {
            "name": "Warehouse Clubs",
            "count": 1
           }
          ]
         }
        },
        {
         "name": "_deepnote_index_column",
         "dtype": "int64"
        }
       ],
       "rows": [
        {
         "Company": "Sam's Club",
         "Sales": 56828,
         "Stores": 655,
         "Sales/Avg. Store": 87.29339478,
         "Store Count Growth": 0.01236476043,
         "Category": "Warehouse Clubs",
         "_deepnote_index_column": 10
        }
       ]
      },
      "text/plain": "       Company  Sales  Stores  Sales/Avg. Store  Store Count Growth  \\\n10  Sam's Club  56828   655.0         87.293395            0.012365   \n\n           Category  \n10  Warehouse Clubs  ",
      "text/html": "<div>\n<style scoped>\n    .dataframe tbody tr th:only-of-type {\n        vertical-align: middle;\n    }\n\n    .dataframe tbody tr th {\n        vertical-align: top;\n    }\n\n    .dataframe thead th {\n        text-align: right;\n    }\n</style>\n<table border=\"1\" class=\"dataframe\">\n  <thead>\n    <tr style=\"text-align: right;\">\n      <th></th>\n      <th>Company</th>\n      <th>Sales</th>\n      <th>Stores</th>\n      <th>Sales/Avg. Store</th>\n      <th>Store Count Growth</th>\n      <th>Category</th>\n    </tr>\n  </thead>\n  <tbody>\n    <tr>\n      <th>10</th>\n      <td>Sam's Club</td>\n      <td>56828</td>\n      <td>655.0</td>\n      <td>87.293395</td>\n      <td>0.012365</td>\n      <td>Warehouse Clubs</td>\n    </tr>\n  </tbody>\n</table>\n</div>"
     },
     "metadata": {}
    }
   ]
  },
  {
   "cell_type": "code",
   "metadata": {
    "cell_id": "68a00091-4dfd-4771-ba12-345ae995ed72",
    "tags": [],
    "deepnote_to_be_reexecuted": false,
    "source_hash": "4f553ea9",
    "execution_start": 1645633944627,
    "execution_millis": 20,
    "deepnote_cell_type": "code",
    "deepnote_cell_height": 251.3125,
    "deepnote_output_heights": [
     136.3125
    ]
   },
   "source": "largest_us_retailers.at[10,'Category']='Warehouse Club'\nlargest_us_retailers.iloc[10]",
   "execution_count": null,
   "outputs": [
    {
     "output_type": "execute_result",
     "execution_count": 17,
     "data": {
      "text/plain": "Company                   Sam's Club\nSales                          56828\nStores                         655.0\nSales/Avg. Store           87.293395\nStore Count Growth          0.012365\nCategory              Warehouse Club\nName: 10, dtype: object"
     },
     "metadata": {}
    }
   ]
  },
  {
   "cell_type": "markdown",
   "source": "Ahora que todas las compañías tienen categoría podemos hacer un conteo de cuales generan más ventas y generar un gráfico de barras para poder visualizarlo más fácilmente.",
   "metadata": {
    "cell_id": "e71652c8-e3d5-475a-bb05-61cf4f6c0af8",
    "tags": [],
    "deepnote_cell_type": "markdown",
    "deepnote_cell_height": 52.390625
   }
  },
  {
   "cell_type": "code",
   "metadata": {
    "cell_id": "e395c659-4396-49d0-82c7-1c2abab46449",
    "tags": [],
    "deepnote_to_be_reexecuted": false,
    "source_hash": "7feb9c03",
    "execution_start": 1645633944642,
    "execution_millis": 307,
    "deepnote_cell_type": "code",
    "deepnote_cell_height": 545,
    "deepnote_output_heights": [
     376
    ]
   },
   "source": "sns.set_theme(style='whitegrid',palette='viridis')\nsales_by_cat=largest_us_retailers.groupby('Category').Sales.sum().sort_values(ascending=False)\nax=sns.barplot(x=sales_by_cat.index,y=sales_by_cat,palette='viridis')\nax.set(xlabel='Categoría',ylabel='Ventas')\nax=plt.xticks(rotation=90)",
   "execution_count": null,
   "outputs": [
    {
     "data": {
      "text/plain": "<Figure size 432x288 with 1 Axes>",
      "image/png": "[encoded data removed]"
     },
     "metadata": {
      "image/png": {
       "width": 417,
       "height": 374
      }
     },
     "output_type": "display_data"
    }
   ]
  },
  {
   "cell_type": "markdown",
   "source": "* Claramente los supercenters son los negocios que generan las mayores ventas, esto se veía venir pues Walmart US supera con creces a todos sus competidores y tiene influencia en todos nuestros analisis\n\nPara ver un resultado un poco menos influenciado por los outliers sería interesante ver como se comporta este gráfico pero sin contar a Walmart",
   "metadata": {
    "cell_id": "13132a19-8a58-4e24-bd6b-c2758ff50315",
    "tags": [],
    "deepnote_cell_type": "markdown",
    "deepnote_cell_height": 114.171875
   }
  },
  {
   "cell_type": "code",
   "metadata": {
    "cell_id": "2359cc4b-3c31-499f-95a7-bbc2d3c6fcf5",
    "tags": [],
    "deepnote_to_be_reexecuted": false,
    "source_hash": "75a56f45",
    "execution_start": 1645633944950,
    "execution_millis": 317,
    "deepnote_cell_type": "code",
    "deepnote_cell_height": 545,
    "deepnote_output_heights": [
     376
    ]
   },
   "source": "sns.set_theme(style='whitegrid',palette='viridis')\nsales_by_cat=largest_us_retailers.iloc[1:].groupby('Category').Sales.sum().sort_values(ascending=False)\nax=sns.barplot(x=sales_by_cat.index,y=sales_by_cat,palette='viridis')\nax.set(xlabel='Categoría',ylabel='Ventas')\nax=plt.xticks(rotation=90)",
   "execution_count": null,
   "outputs": [
    {
     "data": {
      "text/plain": "<Figure size 432x288 with 1 Axes>",
      "image/png": "[encoded data removed]"
     },
     "metadata": {
      "image/png": {
       "width": 417,
       "height": 374
      }
     },
     "output_type": "display_data"
    }
   ]
  },
  {
   "cell_type": "markdown",
   "source": "* En este gráfico se puede ver que sin la influencia de Walmart US las ventas de los Supercenters cae hasta el 5to lugar, dejando como mayores ventas a la categoría Grocery, esto nos sirve como dato adicional para tomar decisiones.",
   "metadata": {
    "cell_id": "5a777826-950c-4358-80f9-6eb3eaa55333",
    "tags": [],
    "deepnote_cell_type": "markdown",
    "deepnote_cell_height": 91.78125
   }
  },
  {
   "cell_type": "markdown",
   "source": "### 8. ¿Cuál es la compañía que en relación con su cantidad de tiendas físicas genera más ventas?",
   "metadata": {
    "cell_id": "33668883-9f01-485c-bdf9-822cd13ad952",
    "tags": [],
    "deepnote_cell_type": "markdown",
    "deepnote_cell_height": 62
   }
  },
  {
   "cell_type": "markdown",
   "source": "Amazon y Apple no tienen tiendas registradas en el dataset. Amazon no tiene tiendas físicas pero Apple sí tiene Apple Stores, sin embargo, no hay forma de corroborar que la información venga de tiendas fisicas y no solamente de sus tiendas Online, así que las tomaremos como puramente online.\n\nTomando esta información en cuenta, lo que prosigue es calcular cuantas ventas por tienda tiene la compañía. ",
   "metadata": {
    "cell_id": "68ad3bfc-1e08-445a-972e-fb237fee3293",
    "tags": [],
    "deepnote_cell_type": "markdown",
    "deepnote_cell_height": 111.171875
   }
  },
  {
   "cell_type": "code",
   "metadata": {
    "cell_id": "75ce527c-e8b0-40a8-a46c-6c490a02b360",
    "tags": [],
    "deepnote_to_be_reexecuted": false,
    "source_hash": "1a6c36d6",
    "execution_start": 1645633945263,
    "execution_millis": 8,
    "deepnote_cell_type": "code",
    "deepnote_cell_height": 81
   },
   "source": "largest_us_retailers['Ventas/Tienda'] = largest_us_retailers['Sales'] / largest_us_retailers['Stores']",
   "execution_count": null,
   "outputs": []
  },
  {
   "cell_type": "code",
   "metadata": {
    "cell_id": "d06e5b3f-b85c-4a28-842f-31c03159d9c7",
    "tags": [],
    "deepnote_to_be_reexecuted": false,
    "source_hash": "ca0a3ea1",
    "execution_start": 1645633945276,
    "execution_millis": 257,
    "deepnote_cell_type": "code",
    "deepnote_cell_height": 458,
    "deepnote_output_heights": [
     325
    ]
   },
   "source": "ventas_tienda=largest_us_retailers.sort_values(by='Ventas/Tienda',ascending=False).loc[:,['Company','Ventas/Tienda']]\nax=ventas_tienda.head(5).plot.bar(x='Company',y='Ventas/Tienda')\nax=ax.set(xlabel='Compañías')",
   "execution_count": null,
   "outputs": [
    {
     "data": {
      "text/plain": "<Figure size 432x288 with 1 Axes>",
      "image/png": "[encoded data removed]"
     },
     "metadata": {
      "image/png": {
       "width": 379,
       "height": 323
      }
     },
     "output_type": "display_data"
    }
   ]
  },
  {
   "cell_type": "markdown",
   "source": "* La compañía con la mayor cantidad de ventas por tienda es Costco\n\n* Walmart US lo sigue de cerca, sin embargo, a pesar de tener una cantidad de ventas impresionante, también tiene la mayor cantidad de tiendas de las compañías del dataset, lo que baja mucho su ratio de ventas/tiendas.",
   "metadata": {
    "cell_id": "42bcdd4d-74e5-4fb7-b80a-5c05ead966e0",
    "tags": [],
    "deepnote_cell_type": "markdown",
    "deepnote_cell_height": 117.171875
   }
  },
  {
   "cell_type": "markdown",
   "source": "### 9. ¿Cuáles compañías venden de forma exclusivamente online? ¿Sus ventas destacan sobre las que también tienen tiendas físicas?",
   "metadata": {
    "cell_id": "e9a00ffe-de8a-41f0-98e7-67b905d0d14f",
    "tags": [],
    "deepnote_cell_type": "markdown",
    "deepnote_cell_height": 94
   }
  },
  {
   "cell_type": "markdown",
   "source": "Como vimos anteriormente Amazon y Apple son las empresas que no tienen tiendas físicas.",
   "metadata": {
    "cell_id": "1cd187be-ec69-4450-9dc7-0aa5c05e0930",
    "tags": [],
    "deepnote_cell_type": "markdown",
    "deepnote_cell_height": 52.390625
   }
  },
  {
   "cell_type": "code",
   "metadata": {
    "cell_id": "903008ff-c22d-431e-8130-a954a94b16e8",
    "tags": [],
    "deepnote_to_be_reexecuted": false,
    "source_hash": "8d07625f",
    "execution_start": 1645633945552,
    "execution_millis": 2,
    "deepnote_cell_type": "code",
    "deepnote_cell_height": 270
   },
   "source": "largest_us_retailers.loc[largest_us_retailers.Stores.notna()==False]",
   "execution_count": null,
   "outputs": [
    {
     "output_type": "execute_result",
     "execution_count": 22,
     "data": {
      "application/vnd.deepnote.dataframe.v3+json": {
       "column_count": 7,
       "row_count": 2,
       "columns": [
        {
         "name": "Company",
         "dtype": "object",
         "stats": {
          "unique_count": 2,
          "nan_count": 0,
          "categories": [
           {
            "name": "Amazon",
            "count": 1
           },
           {
            "name": "Apple incl. Online",
            "count": 1
           }
          ]
         }
        },
        {
         "name": "Sales",
         "dtype": "int64",
         "stats": {
          "unique_count": 2,
          "nan_count": 0,
          "min": "37664",
          "max": "71687",
          "histogram": [
           {
            "bin_start": 37664,
            "bin_end": 41066.3,
            "count": 1
           },
           {
            "bin_start": 41066.3,
            "bin_end": 44468.6,
            "count": 0
           },
           {
            "bin_start": 44468.6,
            "bin_end": 47870.9,
            "count": 0
           },
           {
            "bin_start": 47870.9,
            "bin_end": 51273.2,
            "count": 0
           },
           {
            "bin_start": 51273.2,
            "bin_end": 54675.5,
            "count": 0
           },
           {
            "bin_start": 54675.5,
            "bin_end": 58077.8,
            "count": 0
           },
           {
            "bin_start": 58077.8,
            "bin_end": 61480.100000000006,
            "count": 0
           },
           {
            "bin_start": 61480.100000000006,
            "bin_end": 64882.4,
            "count": 0
           },
           {
            "bin_start": 64882.4,
            "bin_end": 68284.7,
            "count": 0
           },
           {
            "bin_start": 68284.7,
            "bin_end": 71687,
            "count": 1
           }
          ]
         }
        },
        {
         "name": "Stores",
         "dtype": "float64",
         "stats": {
          "unique_count": 0,
          "nan_count": 2,
          "min": null,
          "max": null,
          "histogram": [
           {
            "bin_start": 0,
            "bin_end": 0.1,
            "count": 0
           },
           {
            "bin_start": 0.1,
            "bin_end": 0.2,
            "count": 0
           },
           {
            "bin_start": 0.2,
            "bin_end": 0.30000000000000004,
            "count": 0
           },
           {
            "bin_start": 0.30000000000000004,
            "bin_end": 0.4,
            "count": 0
           },
           {
            "bin_start": 0.4,
            "bin_end": 0.5,
            "count": 0
           },
           {
            "bin_start": 0.5,
            "bin_end": 0.6000000000000001,
            "count": 0
           },
           {
            "bin_start": 0.6000000000000001,
            "bin_end": 0.7000000000000001,
            "count": 0
           },
           {
            "bin_start": 0.7000000000000001,
            "bin_end": 0.8,
            "count": 0
           },
           {
            "bin_start": 0.8,
            "bin_end": 0.9,
            "count": 0
           },
           {
            "bin_start": 0.9,
            "bin_end": 1,
            "count": 0
           }
          ]
         }
        },
        {
         "name": "Sales/Avg. Store",
         "dtype": "float64",
         "stats": {
          "unique_count": 0,
          "nan_count": 2,
          "min": null,
          "max": null,
          "histogram": [
           {
            "bin_start": 0,
            "bin_end": 0.1,
            "count": 0
           },
           {
            "bin_start": 0.1,
            "bin_end": 0.2,
            "count": 0
           },
           {
            "bin_start": 0.2,
            "bin_end": 0.30000000000000004,
            "count": 0
           },
           {
            "bin_start": 0.30000000000000004,
            "bin_end": 0.4,
            "count": 0
           },
           {
            "bin_start": 0.4,
            "bin_end": 0.5,
            "count": 0
           },
           {
            "bin_start": 0.5,
            "bin_end": 0.6000000000000001,
            "count": 0
           },
           {
            "bin_start": 0.6000000000000001,
            "bin_end": 0.7000000000000001,
            "count": 0
           },
           {
            "bin_start": 0.7000000000000001,
            "bin_end": 0.8,
            "count": 0
           },
           {
            "bin_start": 0.8,
            "bin_end": 0.9,
            "count": 0
           },
           {
            "bin_start": 0.9,
            "bin_end": 1,
            "count": 0
           }
          ]
         }
        },
        {
         "name": "Store Count Growth",
         "dtype": "float64",
         "stats": {
          "unique_count": 0,
          "nan_count": 2,
          "min": null,
          "max": null,
          "histogram": [
           {
            "bin_start": 0,
            "bin_end": 0.1,
            "count": 0
           },
           {
            "bin_start": 0.1,
            "bin_end": 0.2,
            "count": 0
           },
           {
            "bin_start": 0.2,
            "bin_end": 0.30000000000000004,
            "count": 0
           },
           {
            "bin_start": 0.30000000000000004,
            "bin_end": 0.4,
            "count": 0
           },
           {
            "bin_start": 0.4,
            "bin_end": 0.5,
            "count": 0
           },
           {
            "bin_start": 0.5,
            "bin_end": 0.6000000000000001,
            "count": 0
           },
           {
            "bin_start": 0.6000000000000001,
            "bin_end": 0.7000000000000001,
            "count": 0
           },
           {
            "bin_start": 0.7000000000000001,
            "bin_end": 0.8,
            "count": 0
           },
           {
            "bin_start": 0.8,
            "bin_end": 0.9,
            "count": 0
           },
           {
            "bin_start": 0.9,
            "bin_end": 1,
            "count": 0
           }
          ]
         }
        },
        {
         "name": "Category",
         "dtype": "object",
         "stats": {
          "unique_count": 2,
          "nan_count": 0,
          "categories": [
           {
            "name": "Electronic/Mail Order",
            "count": 1
           },
           {
            "name": "Electronics",
            "count": 1
           }
          ]
         }
        },
        {
         "name": "Ventas/Tienda",
         "dtype": "float64",
         "stats": {
          "unique_count": 0,
          "nan_count": 2,
          "min": null,
          "max": null,
          "histogram": [
           {
            "bin_start": 0,
            "bin_end": 0.1,
            "count": 0
           },
           {
            "bin_start": 0.1,
            "bin_end": 0.2,
            "count": 0
           },
           {
            "bin_start": 0.2,
            "bin_end": 0.30000000000000004,
            "count": 0
           },
           {
            "bin_start": 0.30000000000000004,
            "bin_end": 0.4,
            "count": 0
           },
           {
            "bin_start": 0.4,
            "bin_end": 0.5,
            "count": 0
           },
           {
            "bin_start": 0.5,
            "bin_end": 0.6000000000000001,
            "count": 0
           },
           {
            "bin_start": 0.6000000000000001,
            "bin_end": 0.7000000000000001,
            "count": 0
           },
           {
            "bin_start": 0.7000000000000001,
            "bin_end": 0.8,
            "count": 0
           },
           {
            "bin_start": 0.8,
            "bin_end": 0.9,
            "count": 0
           },
           {
            "bin_start": 0.9,
            "bin_end": 1,
            "count": 0
           }
          ]
         }
        },
        {
         "name": "_deepnote_index_column",
         "dtype": "int64"
        }
       ],
       "rows": [
        {
         "Company": "Amazon",
         "Sales": 71687,
         "Stores": "nan",
         "Sales/Avg. Store": "nan",
         "Store Count Growth": "nan",
         "Category": "Electronic/Mail Order",
         "Ventas/Tienda": "nan",
         "_deepnote_index_column": 6
        },
        {
         "Company": "Apple incl. Online",
         "Sales": 37664,
         "Stores": "nan",
         "Sales/Avg. Store": "nan",
         "Store Count Growth": "nan",
         "Category": "Electronics",
         "Ventas/Tienda": "nan",
         "_deepnote_index_column": 11
        }
       ]
      },
      "text/plain": "               Company  Sales  Stores  Sales/Avg. Store  Store Count Growth  \\\n6               Amazon  71687     NaN               NaN                 NaN   \n11  Apple incl. Online  37664     NaN               NaN                 NaN   \n\n                 Category  Ventas/Tienda  \n6   Electronic/Mail Order            NaN  \n11            Electronics            NaN  ",
      "text/html": "<div>\n<style scoped>\n    .dataframe tbody tr th:only-of-type {\n        vertical-align: middle;\n    }\n\n    .dataframe tbody tr th {\n        vertical-align: top;\n    }\n\n    .dataframe thead th {\n        text-align: right;\n    }\n</style>\n<table border=\"1\" class=\"dataframe\">\n  <thead>\n    <tr style=\"text-align: right;\">\n      <th></th>\n      <th>Company</th>\n      <th>Sales</th>\n      <th>Stores</th>\n      <th>Sales/Avg. Store</th>\n      <th>Store Count Growth</th>\n      <th>Category</th>\n      <th>Ventas/Tienda</th>\n    </tr>\n  </thead>\n  <tbody>\n    <tr>\n      <th>6</th>\n      <td>Amazon</td>\n      <td>71687</td>\n      <td>NaN</td>\n      <td>NaN</td>\n      <td>NaN</td>\n      <td>Electronic/Mail Order</td>\n      <td>NaN</td>\n    </tr>\n    <tr>\n      <th>11</th>\n      <td>Apple incl. Online</td>\n      <td>37664</td>\n      <td>NaN</td>\n      <td>NaN</td>\n      <td>NaN</td>\n      <td>Electronics</td>\n      <td>NaN</td>\n    </tr>\n  </tbody>\n</table>\n</div>"
     },
     "metadata": {}
    }
   ]
  },
  {
   "cell_type": "markdown",
   "source": "Para revisar si las ventas destacan podemos comparar con el promedio de ventas de las compañías sin ventas en línea.",
   "metadata": {
    "cell_id": "885e80ce-8ded-421d-a52d-0770b4ba1a1d",
    "tags": [],
    "deepnote_cell_type": "markdown",
    "deepnote_cell_height": 52.390625
   }
  },
  {
   "cell_type": "code",
   "metadata": {
    "cell_id": "3585baa1-b6e3-4ae5-a954-4ba62f714e1b",
    "tags": [],
    "deepnote_to_be_reexecuted": false,
    "source_hash": "74c1dd03",
    "execution_start": 1645633945605,
    "execution_millis": 3,
    "deepnote_cell_type": "code",
    "deepnote_cell_height": 154.1875,
    "deepnote_output_heights": [
     21.1875
    ]
   },
   "source": "online_indices=largest_us_retailers.index[largest_us_retailers.Company=='Amazon'].to_list()\nonline_indices.append(largest_us_retailers.index[largest_us_retailers.Company=='Apple incl. Online'][0])\nonline_indices",
   "execution_count": null,
   "outputs": [
    {
     "output_type": "execute_result",
     "execution_count": 23,
     "data": {
      "text/plain": "[6, 11]"
     },
     "metadata": {}
    }
   ]
  },
  {
   "cell_type": "code",
   "metadata": {
    "cell_id": "a2398248-cc7e-40a6-a248-5abc51f89a73",
    "tags": [],
    "deepnote_to_be_reexecuted": false,
    "source_hash": "6ff36290",
    "execution_start": 1645633945607,
    "execution_millis": 163,
    "deepnote_cell_type": "code",
    "deepnote_cell_height": 494,
    "deepnote_output_heights": [
     253
    ]
   },
   "source": "\nsales_mean=largest_us_retailers.Sales.drop(index=online_indices).mean()\namazon_mean=largest_us_retailers[largest_us_retailers['Company']=='Amazon']['Sales'].reset_index(drop=True)[0]\napple_mean=largest_us_retailers[largest_us_retailers['Company']=='Apple incl. Online']['Sales'].reset_index(drop=True)[0]\n\n#Graficando\nsns.set_theme(style='whitegrid',palette='viridis')\ng=sns.barplot(x=['Promedio Amazon','Promedio Apple','Promedio No Online'],y=[amazon_mean,apple_mean,sales_mean])\ng=g.set(ylabel='Ventas')",
   "execution_count": null,
   "outputs": [
    {
     "data": {
      "text/plain": "<Figure size 432x288 with 1 Axes>",
      "image/png": "[encoded data removed]"
     },
     "metadata": {
      "image/png": {
       "width": 410,
       "height": 251
      }
     },
     "output_type": "display_data"
    }
   ]
  },
  {
   "cell_type": "markdown",
   "source": "Las ventas de Amazon estan justo en el promedio y las de Apple se quedan muy por debajo. Pero si recordamos, Walmart US mueve el promedio muy por encima, por lo que una mejor opción puede ser comparar con la mediana:",
   "metadata": {
    "cell_id": "1b8c9dca-b38f-4908-b5c5-279851482f1d",
    "tags": [],
    "deepnote_cell_type": "markdown",
    "deepnote_cell_height": 74.78125
   }
  },
  {
   "cell_type": "code",
   "metadata": {
    "cell_id": "19cfc88f-5e7f-48f0-9163-bc2fcad1f8da",
    "tags": [],
    "deepnote_to_be_reexecuted": false,
    "source_hash": "3a06557e",
    "execution_start": 1645633945815,
    "execution_millis": 3,
    "deepnote_cell_type": "code",
    "deepnote_cell_height": 136.1875,
    "deepnote_output_heights": [
     21.1875
    ]
   },
   "source": "sales_median=largest_us_retailers.Sales.drop(index=online_indices).median()\nsales_median",
   "execution_count": null,
   "outputs": [
    {
     "output_type": "execute_result",
     "execution_count": 25,
     "data": {
      "text/plain": "34408.0"
     },
     "metadata": {}
    }
   ]
  },
  {
   "cell_type": "code",
   "metadata": {
    "cell_id": "cb6d5d30-783d-44af-9c84-f31689cb3487",
    "tags": [],
    "deepnote_to_be_reexecuted": false,
    "source_hash": "71e192df",
    "execution_start": 1645633945816,
    "execution_millis": 187,
    "deepnote_cell_type": "code",
    "deepnote_cell_height": 458,
    "deepnote_output_heights": [
     253
    ]
   },
   "source": "amazon_median=largest_us_retailers[largest_us_retailers['Company']=='Amazon']['Sales'].reset_index(drop=True)[0]\napple_median=largest_us_retailers[largest_us_retailers['Company']=='Apple incl. Online']['Sales'].reset_index(drop=True)[0]\n\n#Graficando\nsns.set_theme(style='whitegrid',palette='viridis')\ng=sns.barplot(x=['Mediana Amazon','Mediana Apple','Mediana No Online'],y=[amazon_median,apple_median,sales_median])\ng=g.set(ylabel='Ventas')",
   "execution_count": null,
   "outputs": [
    {
     "data": {
      "text/plain": "<Figure size 432x288 with 1 Axes>",
      "image/png": "[encoded data removed]"
     },
     "metadata": {
      "image/png": {
       "width": 410,
       "height": 251
      }
     },
     "output_type": "display_data"
    }
   ]
  },
  {
   "cell_type": "markdown",
   "source": "Amazon destaca pues está por encima de la mediana, al igual que apple, pero Apple por una menor cantidad.\n\n* En general las ventas de las tiendas on-line no se quedan muy por detrás de las tiendas tradicionales.",
   "metadata": {
    "cell_id": "cc793b32-fd4c-43c5-a829-657e8aec4cfa",
    "tags": [],
    "deepnote_cell_type": "markdown",
    "deepnote_cell_height": 102.78125
   }
  },
  {
   "cell_type": "markdown",
   "source": "## III. Tus propias preguntas",
   "metadata": {
    "cell_id": "58c80612-3fb2-4c71-9aab-813b121430a0",
    "tags": [],
    "deepnote_cell_type": "markdown",
    "deepnote_cell_height": 70
   }
  },
  {
   "cell_type": "markdown",
   "source": "### 10. ¿Cuáles son las tiendas con mayor y menor crecimiento?",
   "metadata": {
    "cell_id": "d5a17c31-5e8f-4d67-9679-c5705053de69",
    "tags": [],
    "deepnote_cell_type": "markdown",
    "deepnote_cell_height": 62
   }
  },
  {
   "cell_type": "code",
   "metadata": {
    "cell_id": "aeca659b-168f-45e1-aaa9-4bf9efc278ba",
    "tags": [],
    "deepnote_to_be_reexecuted": false,
    "source_hash": "de911d23",
    "execution_start": 1645633946055,
    "execution_millis": 569,
    "deepnote_cell_type": "code",
    "deepnote_cell_height": 617,
    "deepnote_output_heights": [
     466
    ]
   },
   "source": "top_grow=largest_us_retailers.sort_values(by='Store Count Growth',ascending=False).reset_index(drop=True)\ntop_grow=top_grow.fillna(0)\nax=top_grow.plot.bar(x='Company',y='Store Count Growth',figsize=(10,6))\nax=ax.set(xlabel='Compañía',ylabel='Crecimiento de Número de Tiendas')",
   "execution_count": null,
   "outputs": [
    {
     "data": {
      "text/plain": "<Figure size 720x432 with 1 Axes>",
      "image/png": "[encoded data removed]"
     },
     "metadata": {
      "image/png": {
       "width": 632,
       "height": 464
      }
     },
     "output_type": "display_data"
    }
   ]
  },
  {
   "cell_type": "markdown",
   "source": "* Las compañías con un mayor crecimiento en tiendas son CVS, Dollar General y Aldi.\n* Las compañías con menor crecimiento de numero de tiendas están de hecho en una etapa de decrecimiento, estas son: Best Buy, Albertsons y Delhaize",
   "metadata": {
    "cell_id": "5ee94d2b-0273-4536-b5ea-b65e62a80063",
    "tags": [],
    "deepnote_cell_type": "markdown",
    "deepnote_cell_height": 94.78125
   }
  },
  {
   "cell_type": "markdown",
   "source": "### 11. ¿Existe alguna relación entre las ventas de la tienda y el aumento de tiendas? (Store Count Growth)\n\nNuestra lógica nos diría que al haber más ventas, deberían de poner más tiendas.",
   "metadata": {
    "cell_id": "fa60966b-7d95-43f0-9a1e-201f1373f1be",
    "tags": [],
    "deepnote_cell_type": "markdown",
    "deepnote_cell_height": 100.390625
   }
  },
  {
   "cell_type": "code",
   "metadata": {
    "cell_id": "52ea290f-004f-4aaa-8e1a-0d0908996b0a",
    "tags": [],
    "deepnote_to_be_reexecuted": false,
    "source_hash": "462f5d50",
    "execution_start": 1645633971943,
    "execution_millis": 305,
    "deepnote_cell_type": "code",
    "deepnote_cell_height": 437.1875,
    "deepnote_output_heights": [
     21.1875,
     270
    ]
   },
   "source": "ax=sns.regplot(x=largest_us_retailers.Stores,y=largest_us_retailers['Store Count Growth'],ci=None,line_kws={\"color\": \"green\"})\nax.set(xlabel='Tiendas',ylabel='Crecimiento de Número de Tiendas')",
   "execution_count": null,
   "outputs": [
    {
     "output_type": "execute_result",
     "execution_count": 33,
     "data": {
      "text/plain": "[Text(0.5, 0, 'Tiendas'), Text(0, 0.5, 'Crecimiento de Número de Tiendas')]"
     },
     "metadata": {}
    },
    {
     "data": {
      "text/plain": "<Figure size 432x288 with 1 Axes>",
      "image/png": "[encoded data removed]"
     },
     "metadata": {
      "image/png": {
       "width": 409,
       "height": 268
      }
     },
     "output_type": "display_data"
    }
   ]
  },
  {
   "cell_type": "markdown",
   "source": "* Nuestra gráfica muestra una ligera correlación, sin embargo no es tan significativa.\n* Sería interesante revisar si el promedio de ventas por tienda tiene alguna relación más significativa.",
   "metadata": {
    "cell_id": "6a24d71d-4821-4c10-9eaf-f56bd74e92d0",
    "tags": [],
    "deepnote_cell_type": "markdown",
    "deepnote_cell_height": 94.78125
   }
  },
  {
   "cell_type": "code",
   "metadata": {
    "cell_id": "48cd85f2-1c0d-4fe3-9a72-91d801a2761f",
    "tags": [],
    "deepnote_to_be_reexecuted": false,
    "source_hash": "30d9c52",
    "execution_start": 1645633974654,
    "execution_millis": 278,
    "deepnote_cell_type": "code",
    "deepnote_cell_height": 385,
    "deepnote_output_heights": [
     270
    ]
   },
   "source": "ax=sns.regplot(x=largest_us_retailers['Ventas/Tienda'],y=largest_us_retailers['Store Count Growth'],ci=None,line_kws={\"color\": \"green\"})\nax=ax.set(xlabel='Ventas/Tiendas',ylabel='Crecimiento de Número de Tiendas')",
   "execution_count": null,
   "outputs": [
    {
     "data": {
      "text/plain": "<Figure size 432x288 with 1 Axes>",
      "image/png": "[encoded data removed]"
     },
     "metadata": {
      "image/png": {
       "width": 409,
       "height": 268
      }
     },
     "output_type": "display_data"
    }
   ]
  },
  {
   "cell_type": "markdown",
   "source": "* Curiosamente encontramos una muy ligera correlación negativa, entre mayor ventas/tienda hay un menor crecimiento de tiendas, sin embargo no es muy significativa.",
   "metadata": {
    "cell_id": "609668d9-3fd6-4183-8fa2-3ffb1122a323",
    "tags": [],
    "deepnote_cell_type": "markdown",
    "deepnote_cell_height": 69.390625
   }
  },
  {
   "cell_type": "markdown",
   "source": "### 12. ¿Qué categoría de tiendas tiene más tiendas?",
   "metadata": {
    "cell_id": "83e0e566-969d-4872-b32d-915ac945a370",
    "tags": [],
    "deepnote_cell_type": "markdown",
    "deepnote_cell_height": 62
   }
  },
  {
   "cell_type": "markdown",
   "source": "Es interesante saber que clase de tiendas tienen mayor presencia en general y si esto tiene alguna relación con el crecimiento de tiendas.",
   "metadata": {
    "cell_id": "31ba8559-8291-4ce5-8193-9c8ef11f07a7",
    "tags": [],
    "deepnote_cell_type": "markdown",
    "deepnote_cell_height": 52.390625
   }
  },
  {
   "cell_type": "code",
   "metadata": {
    "cell_id": "04a6786e-fd39-4b41-b85c-0ecae003e4db",
    "tags": [],
    "deepnote_to_be_reexecuted": false,
    "source_hash": "4a3b49c1",
    "execution_start": 1645633947210,
    "execution_millis": 1071,
    "deepnote_cell_type": "code",
    "deepnote_cell_height": 617,
    "deepnote_output_heights": [
     376
    ]
   },
   "source": "stores_by_cat=sales_by_cat=largest_us_retailers.groupby('Category').sum().sort_values(by='Stores',ascending=False)\nstores_by_cat=stores_by_cat.fillna(0)\ng=sns.barplot(x=stores_by_cat.index,y=stores_by_cat['Stores'],palette='Oranges',hue=sales_by_cat['Store Count Growth'],dodge=False)\ng.set(xlabel='Categoría',ylabel='Tiendas')\nhandles, labels = g.get_legend_handles_labels() #Reducir decimales de valores de color\nnew_labels = [label[:5] for label in labels]\ng.legend(handles, new_labels, title = 'Crecimiento de Tiendas')\n\ng=plt.xticks(rotation=90)",
   "execution_count": null,
   "outputs": [
    {
     "data": {
      "text/plain": "<Figure size 432x288 with 1 Axes>",
      "image/png": "[encoded data removed]"
     },
     "metadata": {
      "image/png": {
       "width": 410,
       "height": 374
      }
     },
     "output_type": "display_data"
    }
   ]
  },
  {
   "cell_type": "markdown",
   "source": "* Las categorías con mayor cantidad de tiendas son las 'Dollar Stores' y las 'Drug Stores'.\n* Es interesante ver que a pesar de ser las que más tiendas tienen,siguen poniendo tiendas pues tienen el mayor crecimiento, ¡No se detienen por nada!",
   "metadata": {
    "cell_id": "4fb3fe62-01df-4d1b-aaa1-e342d2c6f5db",
    "tags": [],
    "deepnote_cell_type": "markdown",
    "deepnote_cell_height": 94.78125
   }
  },
  {
   "cell_type": "markdown",
   "source": "<a style='text-decoration:none;line-height:16px;display:flex;color:#5B5B62;padding:10px;justify-content:end;' href='https://deepnote.com?utm_source=created-in-deepnote-cell&projectId=7e6a13be-79e9-4307-89ea-d7b2b06b91a6' target=\"_blank\">\n<img alt='Created in deepnote.com' style='display:inline;max-height:16px;margin:0px;margin-right:7.5px;' src='data:image/svg+xml;base64,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' > </img>\nCreated in <span style='font-weight:600;margin-left:4px;'>Deepnote</span></a>",
   "metadata": {
    "tags": [],
    "created_in_deepnote_cell": true,
    "deepnote_cell_type": "markdown"
   }
  }
 ],
 "nbformat": 4,
 "nbformat_minor": 2,
 "metadata": {
  "orig_nbformat": 2,
  "deepnote": {
   "is_reactive": false
  },
  "deepnote_notebook_id": "85b76ea9-ace4-4c85-8b21-59120be91703",
  "deepnote_execution_queue": []
 }
}